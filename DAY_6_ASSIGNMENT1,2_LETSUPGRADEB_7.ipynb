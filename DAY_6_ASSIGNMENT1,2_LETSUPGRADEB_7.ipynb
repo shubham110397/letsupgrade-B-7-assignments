{
  "nbformat": 4,
  "nbformat_minor": 0,
  "metadata": {
    "colab": {
      "name": "DAY-6 ASSIGNMENT1,2 LETSUPGRADEB-7.ipynb",
      "provenance": []
    },
    "kernelspec": {
      "name": "python3",
      "display_name": "Python 3"
    }
  },
  "cells": [
    {
      "cell_type": "markdown",
      "metadata": {
        "id": "oseLxFHvcAIr",
        "colab_type": "text"
      },
      "source": [
        "CREATE A BANK ACCOUNT CLASS THAT HAS TWO ATTRIBUTES\n",
        "Day 6 asss 1\n"
      ]
    },
    {
      "cell_type": "code",
      "metadata": {
        "id": "IobkeBSXPrts",
        "colab_type": "code",
        "colab": {
          "base_uri": "https://localhost:8080/",
          "height": 51
        },
        "outputId": "75bdc79c-6599-4442-9738-bbb7a1272bc2"
      },
      "source": [
        "class bank_account:\n",
        "  def __init__ (self,owner_name,balance):\n",
        "    self.owner_name = owner_name\n",
        "    self.balance=balance\n",
        "  def deposit(self,depo):\n",
        "    self.new_balance = self.balance+depo\n",
        "    print(\"your balance is\",self.new_balance)\n",
        "  def withdraw(self,wid):\n",
        "    if self.new_balance>=wid:\n",
        "      ammount=self.new_balance-wid\n",
        "      print(\"new ammount is\",ammount)\n",
        "    else:\n",
        "      print(\"you dont have enough ammount\")\n",
        "obj1=bank_account(\"jyoti sharma\",10000)\n",
        "obj1.deposit(5000)\n",
        "obj1.withdraw(20000)"
      ],
      "execution_count": 16,
      "outputs": [
        {
          "output_type": "stream",
          "text": [
            "your balance is 15000\n",
            "you dont have enough ammount\n"
          ],
          "name": "stdout"
        }
      ]
    },
    {
      "cell_type": "code",
      "metadata": {
        "id": "p1ce8_ZgeWvI",
        "colab_type": "code",
        "colab": {}
      },
      "source": [
        ""
      ],
      "execution_count": 17,
      "outputs": []
    },
    {
      "cell_type": "markdown",
      "metadata": {
        "id": "Om0zXuUcizpJ",
        "colab_type": "text"
      },
      "source": [
        "CONE CLASS DAY 6 ASSSIGNMENT 2\n",
        "\n"
      ]
    },
    {
      "cell_type": "code",
      "metadata": {
        "id": "GQRxOUuajG7v",
        "colab_type": "code",
        "colab": {
          "base_uri": "https://localhost:8080/",
          "height": 34
        },
        "outputId": "d409c04d-bb45-4d15-ba00-f5a05bcdaa40"
      },
      "source": [
        "import math\n",
        "class cone:\n",
        "  pi = 3.14\n",
        "  def __init__ (self,radius,height):\n",
        "    self.radius = radius\n",
        "    self.height = height\n",
        "  def volume(self):\n",
        "    vol=cone.pi*self.radius**2*self.height/3\n",
        "    print(vol)\n",
        "obj=cone(5,10)\n",
        "obj.volume()\n"
      ],
      "execution_count": 29,
      "outputs": [
        {
          "output_type": "stream",
          "text": [
            "261.6666666666667\n"
          ],
          "name": "stdout"
        }
      ]
    },
    {
      "cell_type": "code",
      "metadata": {
        "id": "IcbPhFkTkQuH",
        "colab_type": "code",
        "colab": {}
      },
      "source": [
        ""
      ],
      "execution_count": 25,
      "outputs": []
    }
  ]
}