{
 "cells": [
  {
   "cell_type": "markdown",
   "metadata": {},
   "source": [
    "# Q1.Write a decorator function for your taking input for you any kind of function you want to build.# "
   ]
  },
  {
   "cell_type": "code",
   "execution_count": 34,
   "metadata": {},
   "outputs": [
    {
     "name": "stdout",
     "output_type": "stream",
     "text": [
      "55\n"
     ]
    }
   ],
   "source": [
    "def deco_function(f):\n",
    "    deco_function={}\n",
    "    def func(x):\n",
    "        if x not in deco_function:\n",
    "            deco_function[x]=f(x)\n",
    "        return deco_function[x]\n",
    "    return func\n",
    "\n",
    "@deco_function\n",
    "def fib(n):\n",
    "    if n==0:\n",
    "        return 0\n",
    "    elif n==1:\n",
    "        return 1\n",
    "    else:\n",
    "        return fib(n-1)+fib(n-2)\n",
    "print(fib(10))    \n"
   ]
  },
  {
   "cell_type": "markdown",
   "metadata": {},
   "source": [
    "# Q2. Develop a python program to open a file in read only mode and try writing something to it and handle the subsequent errors using exception handling. "
   ]
  },
  {
   "cell_type": "code",
   "execution_count": 32,
   "metadata": {},
   "outputs": [
    {
     "name": "stdout",
     "output_type": "stream",
     "text": [
      "python \n",
      "machine learning\n",
      "do you want to write into the file?yes\n",
      "enter the stringdata science\n",
      "....you opened the file in the wrong mode....\n"
     ]
    }
   ],
   "source": [
    "file=open(\"C:/Users/Gateway/Desktop/jyoti.txt\",\"r\")\n",
    "print(file.read())\n",
    "file.close()\n",
    "def write(l):\n",
    "    try:\n",
    "        file.write(l)\n",
    "    except:\n",
    "        print(\"....you opened the file in the wrong mode....\")\n",
    "x=input(\"do you want to write into the file?\")\n",
    "if x==\"yes\":\n",
    "    i=input(\"enter the string\")\n",
    "    write(l)\n",
    "else:\n",
    "    print(\"...thanku...\")"
   ]
  },
  {
   "cell_type": "code",
   "execution_count": null,
   "metadata": {},
   "outputs": [],
   "source": []
  }
 ],
 "metadata": {
  "kernelspec": {
   "display_name": "Python 3",
   "language": "python",
   "name": "python3"
  },
  "language_info": {
   "codemirror_mode": {
    "name": "ipython",
    "version": 3
   },
   "file_extension": ".py",
   "mimetype": "text/x-python",
   "name": "python",
   "nbconvert_exporter": "python",
   "pygments_lexer": "ipython3",
   "version": "3.7.4"
  }
 },
 "nbformat": 4,
 "nbformat_minor": 2
}
