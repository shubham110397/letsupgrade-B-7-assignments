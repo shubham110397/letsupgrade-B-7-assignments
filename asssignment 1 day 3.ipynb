{
 "cells": [
  {
   "cell_type": "markdown",
   "metadata": {},
   "source": [
    "# assignment-1 day 3"
   ]
  },
  {
   "cell_type": "code",
   "execution_count": 6,
   "metadata": {},
   "outputs": [
    {
     "name": "stdout",
     "output_type": "stream",
     "text": [
      "enter the altitude1000\n",
      "land the plane\n"
     ]
    }
   ],
   "source": [
    "altitude=int(input(\"enter the altitude\"))\n",
    "if altitude<=1000:\n",
    "    print(\"land the plane\")\n",
    "elif 1000 < altitude and altitude<5000:\n",
    "    print(\"come down to 1000ft\")\n",
    "else:\n",
    "    print(\"Go arround and try later\")"
   ]
  },
  {
   "cell_type": "code",
   "execution_count": null,
   "metadata": {},
   "outputs": [],
   "source": []
  }
 ],
 "metadata": {
  "kernelspec": {
   "display_name": "Python 3",
   "language": "python",
   "name": "python3"
  },
  "language_info": {
   "codemirror_mode": {
    "name": "ipython",
    "version": 3
   },
   "file_extension": ".py",
   "mimetype": "text/x-python",
   "name": "python",
   "nbconvert_exporter": "python",
   "pygments_lexer": "ipython3",
   "version": "3.8.3"
  }
 },
 "nbformat": 4,
 "nbformat_minor": 4
}
